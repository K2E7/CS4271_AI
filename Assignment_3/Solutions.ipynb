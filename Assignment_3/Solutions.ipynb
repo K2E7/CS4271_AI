{
 "cells": [
  {
   "cell_type": "code",
   "execution_count": 14,
   "metadata": {},
   "outputs": [],
   "source": [
    "## Generic Function for plotting time complexity\n",
    "\n",
    "import timeit\n",
    "import matplotlib.pyplot as plt\n",
    "import numpy as np\n",
    "from sklearn.linear_model import Ridge\n",
    "from sklearn.model_selection import cross_val_score\n",
    "from sklearn.pipeline import make_pipeline\n",
    "from sklearn.preprocessing import PolynomialFeatures\n",
    "\n",
    "def find_optimal_degree(x_data, y_data, max_degree=20, alpha=0.1):\n",
    "    working_x = np.array(x_data)\n",
    "    working_y = np.array(y_data)\n",
    "    cv_scores = []\n",
    "\n",
    "    scaler = StandardScaler()\n",
    "    working_x = scaler.fit_transform(working_x.reshape(-1, 1))\n",
    "\n",
    "    for degree in range(1, max_degree + 1):\n",
    "        model = make_pipeline(PolynomialFeatures(degree), Ridge(alpha=alpha))\n",
    "        scores = -cross_val_score(model, working_x.reshape(-1, 1), working_y, cv=5, scoring='neg_mean_squared_error')\n",
    "        cv_scores.append(scores.mean())\n",
    "\n",
    "    # Find the degree with the minimum cross-validated mean squared error\n",
    "    optimal_degree = np.argmin(cv_scores) + 1  # Adding 1 because degrees start from 1\n",
    "    return optimal_degree\n",
    "\n",
    "def plot_time_complexity(x_data, y_data, title, fit=True):\n",
    "    print(\"\\n Timing done. Fitting started.\\n\")\n",
    "    # Find the optimal degree using cross-validation\n",
    "    degree = find_optimal_degree(x_data, y_data)\n",
    "    # Fit a polynomial curve to the data\n",
    "    coefficients = np.polyfit(x_data, y_data, degree)\n",
    "    polynomial = np.poly1d(coefficients)\n",
    "    fitted_curve = polynomial(x_data)\n",
    "\n",
    "    color_dark = '#3E4C59'\n",
    "    color_light = '#8FB0CE'\n",
    "\n",
    "    # Plot the results\n",
    "    if(fit == True):\n",
    "        plt.plot(x_data, y_data, marker='o', label='Actual Data', color=color_light)\n",
    "        plt.plot(x_data, fitted_curve, label=f'Fitted Curve (Degree {degree})', color=color_dark)\n",
    "    elif(fit != True):\n",
    "        plt.plot(x_data, y_data, marker='o', label='Actual Data', color=color_dark)\n",
    "    plt.title(title)\n",
    "    plt.xlabel('Input Size')\n",
    "    plt.ylabel('Computation Time (seconds)')\n",
    "    plt.legend()\n",
    "    plt.show()\n"
   ]
  },
  {
   "cell_type": "code",
   "execution_count": 3,
   "metadata": {},
   "outputs": [],
   "source": [
    "import random\n",
    "import sys\n",
    "\n",
    "def generate_random_input_data(num_elements):\n",
    "    input_data = []\n",
    "    for i in range(1, num_elements + 1):\n",
    "        # Generate a random number with (i+1) digits\n",
    "        random_number = random.randint(10**i, 10**(i + 1) - 1)\n",
    "        input_data.append(random_number)\n",
    "\n",
    "        # Print progress message without a newline, flush the output, and flush the standard output\n",
    "        print(f\"\\rGenerating {i}th element\", end='', flush=True)\n",
    "        sys.stdout.flush()\n",
    "\n",
    "    print(\"\\nGeneration complete.\")\n",
    "    return input_data"
   ]
  },
  {
   "cell_type": "markdown",
   "metadata": {},
   "source": [
    "Problem 1\n",
    "---\n",
    "Develop a program that efficiently determines the next higher permutation of a positive integer represented as a list of decimal digits. The next higher permutation is defined as the smallest integer greater than the given integer, while maintaining the same set of digits. Ensure that the program returns the result as a list of decimal digits. This task requires a careful consideration of algorithmic efficiency and precision in handling digit permutations, elevating the difficulty level of the problem. For example, the next higher permutation of 123542 is 124235."
   ]
  },
  {
   "cell_type": "code",
   "execution_count": 4,
   "metadata": {},
   "outputs": [
    {
     "name": "stdout",
     "output_type": "stream",
     "text": [
      "The next higher permutation of 123542 is 124235.\n"
     ]
    }
   ],
   "source": [
    "def next_permutation(nums):\n",
    "    # Find the first element from the right that is smaller than its next element\n",
    "    i = len(nums) - 2\n",
    "    while i >= 0 and nums[i] >= nums[i + 1]:\n",
    "        i -= 1\n",
    "\n",
    "    # If no such element is found, it means the given permutation is the highest\n",
    "    if i == -1:\n",
    "        return None\n",
    "\n",
    "    # Find the smallest element to the right of 'i' that is greater than nums[i]\n",
    "    j = len(nums) - 1\n",
    "    while nums[j] <= nums[i]:\n",
    "        j -= 1\n",
    "\n",
    "    # Swap nums[i] and nums[j]\n",
    "    nums[i], nums[j] = nums[j], nums[i]\n",
    "\n",
    "    # Reverse the subarray to the right of 'i'\n",
    "    nums[i + 1:] = reversed(nums[i + 1:])\n",
    "\n",
    "    return nums\n",
    "\n",
    "def find_next_permutation(number):\n",
    "    # Convert the number to a list of digits\n",
    "    nums = [int(digit) for digit in str(number)]\n",
    "\n",
    "    # Find the next permutation\n",
    "    next_perm = next_permutation(nums)\n",
    "\n",
    "    # If the given permutation is already the highest, return None\n",
    "    if next_perm is None:\n",
    "        return None\n",
    "\n",
    "    # Convert the list of digits back to an integer\n",
    "    result = int(''.join(map(str, next_perm)))\n",
    "\n",
    "    return result\n",
    "\n",
    "# Example usage:\n",
    "input_number = 123542\n",
    "result = find_next_permutation(input_number)\n",
    "\n",
    "if result is not None:\n",
    "    print(f\"The next higher permutation of {input_number} is {result}.\")\n",
    "else:\n",
    "    print(f\"{input_number} is already the highest permutation.\")\n"
   ]
  },
  {
   "cell_type": "code",
   "execution_count": 5,
   "metadata": {},
   "outputs": [
    {
     "name": "stdout",
     "output_type": "stream",
     "text": [
      "Generating 1000th element\n",
      "Generation complete.\n"
     ]
    }
   ],
   "source": [
    "input_data = generate_random_input_data(1000)\n",
    "# plot_time_complexity(find_next_permutation, input_data, 'Time Complexity of find_next_permutation')"
   ]
  },
  {
   "cell_type": "code",
   "execution_count": 15,
   "metadata": {},
   "outputs": [
    {
     "name": "stdout",
     "output_type": "stream",
     "text": [
      "Timing 1000th element"
     ]
    }
   ],
   "source": [
    "# Initialize lists to store input sizes and corresponding computation times\n",
    "input_sizes = []\n",
    "computation_times = []\n",
    "for index, data in enumerate(input_data):\n",
    "    # Measure the time taken to execute the function with the given input data\n",
    "    time_taken = timeit.timeit(lambda: find_next_permutation(data), number=1000)\n",
    "    print(f\"\\rTiming {index+1}th element\", end='', flush=True)\n",
    "    # Store input size and corresponding computation time\n",
    "    input_sizes.append(len(str(data)))\n",
    "    computation_times.append(time_taken)\n"
   ]
  },
  {
   "cell_type": "code",
   "execution_count": 16,
   "metadata": {},
   "outputs": [
    {
     "name": "stdout",
     "output_type": "stream",
     "text": [
      "\n",
      " Timing done. Fitting started.\n",
      "\n"
     ]
    },
    {
     "name": "stderr",
     "output_type": "stream",
     "text": [
      "/home/k2e7/basilisk/lib/python3.11/site-packages/sklearn/linear_model/_ridge.py:204: LinAlgWarning: Ill-conditioned matrix (rcond=1.52399e-21): result may not be accurate.\n",
      "  return linalg.solve(A, Xy, assume_a=\"pos\", overwrite_a=True).T\n",
      "/home/k2e7/basilisk/lib/python3.11/site-packages/sklearn/linear_model/_ridge.py:204: LinAlgWarning: Ill-conditioned matrix (rcond=1.45121e-21): result may not be accurate.\n",
      "  return linalg.solve(A, Xy, assume_a=\"pos\", overwrite_a=True).T\n",
      "/home/k2e7/basilisk/lib/python3.11/site-packages/sklearn/linear_model/_ridge.py:204: LinAlgWarning: Ill-conditioned matrix (rcond=1.29568e-21): result may not be accurate.\n",
      "  return linalg.solve(A, Xy, assume_a=\"pos\", overwrite_a=True).T\n",
      "/home/k2e7/basilisk/lib/python3.11/site-packages/sklearn/linear_model/_ridge.py:204: LinAlgWarning: Ill-conditioned matrix (rcond=1.29568e-21): result may not be accurate.\n",
      "  return linalg.solve(A, Xy, assume_a=\"pos\", overwrite_a=True).T\n",
      "/home/k2e7/basilisk/lib/python3.11/site-packages/sklearn/linear_model/_ridge.py:204: LinAlgWarning: Ill-conditioned matrix (rcond=5.85766e-21): result may not be accurate.\n",
      "  return linalg.solve(A, Xy, assume_a=\"pos\", overwrite_a=True).T\n",
      "/home/k2e7/basilisk/lib/python3.11/site-packages/sklearn/linear_model/_ridge.py:204: LinAlgWarning: Ill-conditioned matrix (rcond=1.6139e-27): result may not be accurate.\n",
      "  return linalg.solve(A, Xy, assume_a=\"pos\", overwrite_a=True).T\n",
      "/home/k2e7/basilisk/lib/python3.11/site-packages/sklearn/linear_model/_ridge.py:204: LinAlgWarning: Ill-conditioned matrix (rcond=1.58951e-27): result may not be accurate.\n",
      "  return linalg.solve(A, Xy, assume_a=\"pos\", overwrite_a=True).T\n",
      "/home/k2e7/basilisk/lib/python3.11/site-packages/sklearn/linear_model/_ridge.py:204: LinAlgWarning: Ill-conditioned matrix (rcond=1.48214e-27): result may not be accurate.\n",
      "  return linalg.solve(A, Xy, assume_a=\"pos\", overwrite_a=True).T\n",
      "/home/k2e7/basilisk/lib/python3.11/site-packages/sklearn/linear_model/_ridge.py:204: LinAlgWarning: Ill-conditioned matrix (rcond=1.42586e-27): result may not be accurate.\n",
      "  return linalg.solve(A, Xy, assume_a=\"pos\", overwrite_a=True).T\n",
      "/home/k2e7/basilisk/lib/python3.11/site-packages/sklearn/linear_model/_ridge.py:204: LinAlgWarning: Ill-conditioned matrix (rcond=1.02996e-26): result may not be accurate.\n",
      "  return linalg.solve(A, Xy, assume_a=\"pos\", overwrite_a=True).T\n",
      "/home/k2e7/basilisk/lib/python3.11/site-packages/sklearn/linear_model/_ridge.py:204: LinAlgWarning: Ill-conditioned matrix (rcond=1.75035e-33): result may not be accurate.\n",
      "  return linalg.solve(A, Xy, assume_a=\"pos\", overwrite_a=True).T\n",
      "/home/k2e7/basilisk/lib/python3.11/site-packages/sklearn/linear_model/_ridge.py:204: LinAlgWarning: Ill-conditioned matrix (rcond=1.7418e-33): result may not be accurate.\n",
      "  return linalg.solve(A, Xy, assume_a=\"pos\", overwrite_a=True).T\n",
      "/home/k2e7/basilisk/lib/python3.11/site-packages/sklearn/linear_model/_ridge.py:204: LinAlgWarning: Ill-conditioned matrix (rcond=1.67347e-33): result may not be accurate.\n",
      "  return linalg.solve(A, Xy, assume_a=\"pos\", overwrite_a=True).T\n",
      "/home/k2e7/basilisk/lib/python3.11/site-packages/sklearn/linear_model/_ridge.py:204: LinAlgWarning: Ill-conditioned matrix (rcond=1.58446e-33): result may not be accurate.\n",
      "  return linalg.solve(A, Xy, assume_a=\"pos\", overwrite_a=True).T\n",
      "/home/k2e7/basilisk/lib/python3.11/site-packages/sklearn/linear_model/_ridge.py:204: LinAlgWarning: Ill-conditioned matrix (rcond=1.80554e-32): result may not be accurate.\n",
      "  return linalg.solve(A, Xy, assume_a=\"pos\", overwrite_a=True).T\n",
      "/home/k2e7/basilisk/lib/python3.11/site-packages/sklearn/linear_model/_ridge.py:204: LinAlgWarning: Ill-conditioned matrix (rcond=1.90693e-39): result may not be accurate.\n",
      "  return linalg.solve(A, Xy, assume_a=\"pos\", overwrite_a=True).T\n",
      "/home/k2e7/basilisk/lib/python3.11/site-packages/sklearn/linear_model/_ridge.py:204: LinAlgWarning: Ill-conditioned matrix (rcond=1.90385e-39): result may not be accurate.\n",
      "  return linalg.solve(A, Xy, assume_a=\"pos\", overwrite_a=True).T\n",
      "/home/k2e7/basilisk/lib/python3.11/site-packages/sklearn/linear_model/_ridge.py:204: LinAlgWarning: Ill-conditioned matrix (rcond=1.86213e-39): result may not be accurate.\n",
      "  return linalg.solve(A, Xy, assume_a=\"pos\", overwrite_a=True).T\n",
      "/home/k2e7/basilisk/lib/python3.11/site-packages/sklearn/linear_model/_ridge.py:204: LinAlgWarning: Ill-conditioned matrix (rcond=1.75937e-39): result may not be accurate.\n",
      "  return linalg.solve(A, Xy, assume_a=\"pos\", overwrite_a=True).T\n",
      "/home/k2e7/basilisk/lib/python3.11/site-packages/sklearn/linear_model/_ridge.py:204: LinAlgWarning: Ill-conditioned matrix (rcond=3.1392e-38): result may not be accurate.\n",
      "  return linalg.solve(A, Xy, assume_a=\"pos\", overwrite_a=True).T\n",
      "/home/k2e7/basilisk/lib/python3.11/site-packages/sklearn/linear_model/_ridge.py:204: LinAlgWarning: Ill-conditioned matrix (rcond=2.07353e-45): result may not be accurate.\n",
      "  return linalg.solve(A, Xy, assume_a=\"pos\", overwrite_a=True).T\n",
      "/home/k2e7/basilisk/lib/python3.11/site-packages/sklearn/linear_model/_ridge.py:204: LinAlgWarning: Ill-conditioned matrix (rcond=2.07239e-45): result may not be accurate.\n",
      "  return linalg.solve(A, Xy, assume_a=\"pos\", overwrite_a=True).T\n",
      "/home/k2e7/basilisk/lib/python3.11/site-packages/sklearn/linear_model/_ridge.py:204: LinAlgWarning: Ill-conditioned matrix (rcond=2.04747e-45): result may not be accurate.\n",
      "  return linalg.solve(A, Xy, assume_a=\"pos\", overwrite_a=True).T\n",
      "/home/k2e7/basilisk/lib/python3.11/site-packages/sklearn/linear_model/_ridge.py:204: LinAlgWarning: Ill-conditioned matrix (rcond=1.94371e-45): result may not be accurate.\n",
      "  return linalg.solve(A, Xy, assume_a=\"pos\", overwrite_a=True).T\n",
      "/home/k2e7/basilisk/lib/python3.11/site-packages/sklearn/linear_model/_ridge.py:204: LinAlgWarning: Ill-conditioned matrix (rcond=5.41015e-44): result may not be accurate.\n",
      "  return linalg.solve(A, Xy, assume_a=\"pos\", overwrite_a=True).T\n",
      "/home/k2e7/basilisk/lib/python3.11/site-packages/sklearn/linear_model/_ridge.py:204: LinAlgWarning: Ill-conditioned matrix (rcond=2.24551e-51): result may not be accurate.\n",
      "  return linalg.solve(A, Xy, assume_a=\"pos\", overwrite_a=True).T\n",
      "/home/k2e7/basilisk/lib/python3.11/site-packages/sklearn/linear_model/_ridge.py:204: LinAlgWarning: Ill-conditioned matrix (rcond=2.24509e-51): result may not be accurate.\n",
      "  return linalg.solve(A, Xy, assume_a=\"pos\", overwrite_a=True).T\n",
      "/home/k2e7/basilisk/lib/python3.11/site-packages/sklearn/linear_model/_ridge.py:204: LinAlgWarning: Ill-conditioned matrix (rcond=2.23037e-51): result may not be accurate.\n",
      "  return linalg.solve(A, Xy, assume_a=\"pos\", overwrite_a=True).T\n",
      "/home/k2e7/basilisk/lib/python3.11/site-packages/sklearn/linear_model/_ridge.py:204: LinAlgWarning: Ill-conditioned matrix (rcond=2.13306e-51): result may not be accurate.\n",
      "  return linalg.solve(A, Xy, assume_a=\"pos\", overwrite_a=True).T\n",
      "/home/k2e7/basilisk/lib/python3.11/site-packages/sklearn/linear_model/_ridge.py:204: LinAlgWarning: Ill-conditioned matrix (rcond=9.24809e-50): result may not be accurate.\n",
      "  return linalg.solve(A, Xy, assume_a=\"pos\", overwrite_a=True).T\n",
      "/home/k2e7/basilisk/lib/python3.11/site-packages/sklearn/linear_model/_ridge.py:204: LinAlgWarning: Ill-conditioned matrix (rcond=2.4205e-57): result may not be accurate.\n",
      "  return linalg.solve(A, Xy, assume_a=\"pos\", overwrite_a=True).T\n",
      "/home/k2e7/basilisk/lib/python3.11/site-packages/sklearn/linear_model/_ridge.py:204: LinAlgWarning: Ill-conditioned matrix (rcond=2.42034e-57): result may not be accurate.\n",
      "  return linalg.solve(A, Xy, assume_a=\"pos\", overwrite_a=True).T\n",
      "/home/k2e7/basilisk/lib/python3.11/site-packages/sklearn/linear_model/_ridge.py:204: LinAlgWarning: Ill-conditioned matrix (rcond=2.41169e-57): result may not be accurate.\n",
      "  return linalg.solve(A, Xy, assume_a=\"pos\", overwrite_a=True).T\n",
      "/home/k2e7/basilisk/lib/python3.11/site-packages/sklearn/linear_model/_ridge.py:204: LinAlgWarning: Ill-conditioned matrix (rcond=2.32455e-57): result may not be accurate.\n",
      "  return linalg.solve(A, Xy, assume_a=\"pos\", overwrite_a=True).T\n",
      "/home/k2e7/basilisk/lib/python3.11/site-packages/sklearn/linear_model/_ridge.py:204: LinAlgWarning: Ill-conditioned matrix (rcond=1.56942e-55): result may not be accurate.\n",
      "  return linalg.solve(A, Xy, assume_a=\"pos\", overwrite_a=True).T\n",
      "/home/k2e7/basilisk/lib/python3.11/site-packages/sklearn/linear_model/_ridge.py:204: LinAlgWarning: Ill-conditioned matrix (rcond=2.59714e-63): result may not be accurate.\n",
      "  return linalg.solve(A, Xy, assume_a=\"pos\", overwrite_a=True).T\n",
      "/home/k2e7/basilisk/lib/python3.11/site-packages/sklearn/linear_model/_ridge.py:204: LinAlgWarning: Ill-conditioned matrix (rcond=2.59708e-63): result may not be accurate.\n",
      "  return linalg.solve(A, Xy, assume_a=\"pos\", overwrite_a=True).T\n",
      "/home/k2e7/basilisk/lib/python3.11/site-packages/sklearn/linear_model/_ridge.py:204: LinAlgWarning: Ill-conditioned matrix (rcond=2.592e-63): result may not be accurate.\n",
      "  return linalg.solve(A, Xy, assume_a=\"pos\", overwrite_a=True).T\n",
      "/home/k2e7/basilisk/lib/python3.11/site-packages/sklearn/linear_model/_ridge.py:204: LinAlgWarning: Ill-conditioned matrix (rcond=2.51633e-63): result may not be accurate.\n",
      "  return linalg.solve(A, Xy, assume_a=\"pos\", overwrite_a=True).T\n",
      "/home/k2e7/basilisk/lib/python3.11/site-packages/sklearn/linear_model/_ridge.py:204: LinAlgWarning: Ill-conditioned matrix (rcond=2.64637e-61): result may not be accurate.\n",
      "  return linalg.solve(A, Xy, assume_a=\"pos\", overwrite_a=True).T\n",
      "/home/k2e7/basilisk/lib/python3.11/site-packages/sklearn/linear_model/_ridge.py:204: LinAlgWarning: Ill-conditioned matrix (rcond=2.75636e-69): result may not be accurate.\n",
      "  return linalg.solve(A, Xy, assume_a=\"pos\", overwrite_a=True).T\n",
      "/home/k2e7/basilisk/lib/python3.11/site-packages/sklearn/linear_model/_ridge.py:204: LinAlgWarning: Ill-conditioned matrix (rcond=2.77458e-69): result may not be accurate.\n",
      "  return linalg.solve(A, Xy, assume_a=\"pos\", overwrite_a=True).T\n",
      "/home/k2e7/basilisk/lib/python3.11/site-packages/sklearn/linear_model/_ridge.py:204: LinAlgWarning: Ill-conditioned matrix (rcond=2.77161e-69): result may not be accurate.\n",
      "  return linalg.solve(A, Xy, assume_a=\"pos\", overwrite_a=True).T\n",
      "/home/k2e7/basilisk/lib/python3.11/site-packages/sklearn/linear_model/_ridge.py:204: LinAlgWarning: Ill-conditioned matrix (rcond=2.70731e-69): result may not be accurate.\n",
      "  return linalg.solve(A, Xy, assume_a=\"pos\", overwrite_a=True).T\n",
      "/home/k2e7/basilisk/lib/python3.11/site-packages/sklearn/linear_model/_ridge.py:204: LinAlgWarning: Ill-conditioned matrix (rcond=4.43744e-67): result may not be accurate.\n",
      "  return linalg.solve(A, Xy, assume_a=\"pos\", overwrite_a=True).T\n",
      "/home/k2e7/basilisk/lib/python3.11/site-packages/sklearn/linear_model/_ridge.py:204: LinAlgWarning: Ill-conditioned matrix (rcond=2.3528e-75): result may not be accurate.\n",
      "  return linalg.solve(A, Xy, assume_a=\"pos\", overwrite_a=True).T\n",
      "/home/k2e7/basilisk/lib/python3.11/site-packages/sklearn/linear_model/_ridge.py:204: LinAlgWarning: Ill-conditioned matrix (rcond=2.95238e-75): result may not be accurate.\n",
      "  return linalg.solve(A, Xy, assume_a=\"pos\", overwrite_a=True).T\n",
      "/home/k2e7/basilisk/lib/python3.11/site-packages/sklearn/linear_model/_ridge.py:204: LinAlgWarning: Ill-conditioned matrix (rcond=2.95063e-75): result may not be accurate.\n",
      "  return linalg.solve(A, Xy, assume_a=\"pos\", overwrite_a=True).T\n",
      "/home/k2e7/basilisk/lib/python3.11/site-packages/sklearn/linear_model/_ridge.py:204: LinAlgWarning: Ill-conditioned matrix (rcond=2.89684e-75): result may not be accurate.\n",
      "  return linalg.solve(A, Xy, assume_a=\"pos\", overwrite_a=True).T\n",
      "/home/k2e7/basilisk/lib/python3.11/site-packages/sklearn/linear_model/_ridge.py:204: LinAlgWarning: Ill-conditioned matrix (rcond=7.40414e-73): result may not be accurate.\n",
      "  return linalg.solve(A, Xy, assume_a=\"pos\", overwrite_a=True).T\n",
      "/home/k2e7/basilisk/lib/python3.11/site-packages/sklearn/linear_model/_ridge.py:204: LinAlgWarning: Ill-conditioned matrix (rcond=3.13012e-81): result may not be accurate.\n",
      "  return linalg.solve(A, Xy, assume_a=\"pos\", overwrite_a=True).T\n",
      "/home/k2e7/basilisk/lib/python3.11/site-packages/sklearn/linear_model/_ridge.py:204: LinAlgWarning: Ill-conditioned matrix (rcond=3.1291e-81): result may not be accurate.\n",
      "  return linalg.solve(A, Xy, assume_a=\"pos\", overwrite_a=True).T\n",
      "/home/k2e7/basilisk/lib/python3.11/site-packages/sklearn/linear_model/_ridge.py:204: LinAlgWarning: Ill-conditioned matrix (rcond=1.23007e-78): result may not be accurate.\n",
      "  return linalg.solve(A, Xy, assume_a=\"pos\", overwrite_a=True).T\n",
      "/home/k2e7/basilisk/lib/python3.11/site-packages/sklearn/linear_model/_ridge.py:204: LinAlgWarning: Ill-conditioned matrix (rcond=3.30758e-87): result may not be accurate.\n",
      "  return linalg.solve(A, Xy, assume_a=\"pos\", overwrite_a=True).T\n",
      "/home/k2e7/basilisk/lib/python3.11/site-packages/sklearn/linear_model/_ridge.py:204: LinAlgWarning: Ill-conditioned matrix (rcond=2.03568e-84): result may not be accurate.\n",
      "  return linalg.solve(A, Xy, assume_a=\"pos\", overwrite_a=True).T\n"
     ]
    },
    {
     "data": {
      "image/png": "[encoded data removed]",
      "text/plain": [
       "<Figure size 640x480 with 1 Axes>"
      ]
     },
     "metadata": {},
     "output_type": "display_data"
    }
   ],
   "source": [
    "plot_time_complexity(input_sizes, computation_times, 'Time Complexity of find_next_permutation')"
   ]
  },
  {
   "cell_type": "markdown",
   "metadata": {},
   "source": [
    "Problem 2\n",
    "---\n",
    "Develop a program that systematically generates the sequence of moves required to transfer a set of N discs from an initial arrangement on one pole to a target arrangement on another pole. The setup involves multiple poles and discs, each with varying diameters. The primary goal is to move all discs from the initial pole to the target pole while respecting two fundamental constraints: only the topmost disc on a pole can be moved at any given time, and no disc may be placed on a smaller disc. This programming task entails devising an algorithm capable of efficiently producing the sequence of moves, demonstrating heightened complexity due to the nuanced management of disc placements and strict adherence to the specified rules."
   ]
  },
  {
   "cell_type": "code",
   "execution_count": 1,
   "metadata": {},
   "outputs": [],
   "source": [
    "def tower_of_hanoi(n, source='SOURCE', target='TARGET', auxiliary='AUXILIARY'):\n",
    "    if n == 1:\n",
    "        #print(f\"Move disk 1 from {source} to {target}\")\n",
    "        return\n",
    "    tower_of_hanoi(n-1, source, auxiliary, target)\n",
    "    #print(f\"Move disk {n} from {source} to {target}\")\n",
    "    tower_of_hanoi(n-1, auxiliary, target, source)"
   ]
  },
  {
   "cell_type": "code",
   "execution_count": 18,
   "metadata": {},
   "outputs": [],
   "source": [
    "input_list = list(range(3,25))"
   ]
  },
  {
   "cell_type": "code",
   "execution_count": 19,
   "metadata": {},
   "outputs": [
    {
     "name": "stdout",
     "output_type": "stream",
     "text": [
      "Timing 25th element"
     ]
    }
   ],
   "source": [
    "# Initialize lists to store input sizes and corresponding computation times\n",
    "input_sizes = []\n",
    "computation_times = []\n",
    "for index, data in enumerate(input_list):\n",
    "    # Measure the time taken to execute the function with the given input data\n",
    "    time_taken = timeit.timeit(lambda: tower_of_hanoi(data), number=1000)\n",
    "    print(f\"\\rTiming {index+4}th element\", end='', flush=True)\n",
    "    # Store input size and corresponding computation time\n",
    "    input_sizes.append(data)\n",
    "    computation_times.append(time_taken)\n"
   ]
  },
  {
   "cell_type": "code",
   "execution_count": 20,
   "metadata": {},
   "outputs": [
    {
     "name": "stdout",
     "output_type": "stream",
     "text": [
      "\n",
      " Timing done. Fitting started.\n",
      "\n"
     ]
    },
    {
     "data": {
      "image/png": "[encoded data removed]",
      "text/plain": [
       "<Figure size 640x480 with 1 Axes>"
      ]
     },
     "metadata": {},
     "output_type": "display_data"
    }
   ],
   "source": [
    "plot_time_complexity(input_sizes, computation_times, 'Time Complexity of tower_of_hanoi')"
   ]
  },
  {
   "cell_type": "code",
   "execution_count": 18,
   "metadata": {},
   "outputs": [
    {
     "name": "stdout",
     "output_type": "stream",
     "text": [
      "Optimal route: [3, 1, 0, 2]\n",
      "Optimal distance: 10.79669127533634\n"
     ]
    }
   ],
   "source": [
    "import random\n",
    "import math\n",
    "\n",
    "def euclidean_distance(city1, city2):\n",
    "    return math.sqrt((city1[0] - city2[0])**2 + (city1[1] - city2[1])**2)\n",
    "\n",
    "def total_distance(route, cities):\n",
    "    distance = 0\n",
    "    for i in range(len(route) - 1):\n",
    "        distance += euclidean_distance(cities[route[i]], cities[route[i + 1]])\n",
    "    distance += euclidean_distance(cities[route[-1]], cities[route[0]])  # Return to the starting city\n",
    "    return distance\n",
    "\n",
    "def hill_climbing_tsp(cities, iterations=1000):\n",
    "    num_cities = len(cities)\n",
    "    current_route = list(range(num_cities))\n",
    "    random.shuffle(current_route)  # Random initial solution\n",
    "\n",
    "    for _ in range(iterations):\n",
    "        # Generate a neighboring solution by swapping two random cities\n",
    "        neighbor_route = current_route.copy()\n",
    "        index1, index2 = random.sample(range(num_cities), 2)\n",
    "        neighbor_route[index1], neighbor_route[index2] = neighbor_route[index2], neighbor_route[index1]\n",
    "\n",
    "        # Evaluate the total distance of the current and neighboring routes\n",
    "        current_distance = total_distance(current_route, cities)\n",
    "        neighbor_distance = total_distance(neighbor_route, cities)\n",
    "\n",
    "        # Accept the neighboring solution if it's better\n",
    "        if neighbor_distance < current_distance:\n",
    "            current_route = neighbor_route\n",
    "\n",
    "    return current_route\n",
    "\n",
    "# Example usage:\n",
    "cities = [(0, 0), (1, 2), (3, 1), (4, 3)]\n",
    "optimal_route = hill_climbing_tsp(cities)\n",
    "\n",
    "print(\"Optimal route:\", optimal_route)\n",
    "print(\"Optimal distance:\", total_distance(optimal_route, cities))\n"
   ]
  },
  {
   "cell_type": "code",
   "execution_count": 3,
   "metadata": {},
   "outputs": [
    {
     "name": "stdout",
     "output_type": "stream",
     "text": [
      "[(2, 2), (5, 5), (0, 0), (6, 6), (4, 4), (3, 3), (1, 1)]\n",
      "[(1, 1), (2, 2), (3, 3), (0, 0), (4, 4), (5, 5)]\n",
      "[(6, 6), (5, 5), (2, 2), (3, 3), (4, 4), (0, 0), (1, 1)]\n",
      "[(4, 4), (1, 1), (0, 0), (3, 3), (2, 2)]\n",
      "[(2, 2), (0, 0), (4, 4), (3, 3), (1, 1)]\n"
     ]
    }
   ],
   "source": [
    "from itertools import permutations\n",
    "import random\n",
    "\n",
    "def generate_sample_routes(max_cities, num_samples):\n",
    "    all_routes = []\n",
    "\n",
    "    for _ in range(num_samples):\n",
    "        # Generate a random number of cities between 5 and max_cities\n",
    "        num_cities = random.randint(5, max_cities)\n",
    "\n",
    "        # Generate a list of cities\n",
    "        cities = [(i, i) for i in range(num_cities)]\n",
    "\n",
    "        # Get all permutations of the cities\n",
    "        all_permutations = permutations(cities)\n",
    "\n",
    "        # Select a random permutation and convert it to a list\n",
    "        random_permutation = random.choice(list(all_permutations))\n",
    "        route = list(random_permutation)\n",
    "\n",
    "        all_routes.append(route)\n",
    "\n",
    "    return all_routes\n",
    "\n"
   ]
  },
  {
   "cell_type": "code",
   "execution_count": 14,
   "metadata": {},
   "outputs": [
    {
     "name": "stdout",
     "output_type": "stream",
     "text": [
      "[(2, 2), (1, 1), (3, 3), (0, 0), (4, 4)]\n",
      "[(0, 0), (2, 2), (4, 4), (1, 1), (3, 3)]\n",
      "[(4, 4), (0, 0), (2, 2), (1, 1), (3, 3)]\n",
      "[(3, 3), (1, 1), (2, 2), (4, 4), (0, 0)]\n",
      "[(2, 2), (3, 3), (0, 0), (4, 4), (1, 1)]\n",
      "[(0, 0), (1, 1), (4, 4), (3, 3), (2, 2)]\n",
      "[(4, 4), (1, 1), (3, 3), (0, 0), (2, 2)]\n",
      "[(1, 1), (3, 3), (4, 4), (2, 2), (0, 0)]\n",
      "[(1, 1), (4, 4), (2, 2), (0, 0), (3, 3)]\n",
      "[(2, 2), (3, 3), (1, 1), (0, 0), (4, 4)]\n",
      "[(3, 3), (4, 4), (2, 2), (1, 1), (0, 0)]\n",
      "[(0, 0), (2, 2), (4, 4), (3, 3), (1, 1)]\n",
      "[(3, 3), (0, 0), (4, 4), (1, 1), (2, 2)]\n",
      "[(0, 0), (2, 2), (4, 4), (3, 3), (1, 1)]\n",
      "[(2, 2), (1, 1), (3, 3), (4, 4), (0, 0)]\n"
     ]
    }
   ],
   "source": [
    "# Example usage:\n",
    "max_cities = 5 # You can change this to the desired maximum number of cities\n",
    "num_samples = 15  # You can change this to the desired number of samples\n",
    "sample_routes = generate_sample_routes(max_cities, num_samples)\n",
    "sample_routes = sorted(sample_routes, key=len)\n",
    "# Display the generated sample routes\n",
    "for route in sample_routes:\n",
    "    print(route)\n"
   ]
  },
  {
   "cell_type": "code",
   "execution_count": 19,
   "metadata": {},
   "outputs": [
    {
     "name": "stdout",
     "output_type": "stream",
     "text": [
      "Timing 15th element"
     ]
    }
   ],
   "source": [
    "computation_times_tsp = []\n",
    "x_index = []\n",
    "for index,routes in enumerate(sample_routes):\n",
    "    print(f\"\\rTiming {index+1}th element\", end='', flush=True)\n",
    "    time_taken = timeit.timeit(lambda: hill_climbing_tsp(routes), number=1000)\n",
    "    computation_times_tsp.append(time_taken)\n",
    "    x_index.append(len(routes))"
   ]
  },
  {
   "cell_type": "code",
   "execution_count": 12,
   "metadata": {},
   "outputs": [
    {
     "name": "stdout",
     "output_type": "stream",
     "text": [
      "[11.793956619999335, 10.666308784000648, 18.018023211000582, 58.78391637999994, 12.043901629000175, 12.758404700000028, 13.763908260999415, 12.717517643000065, 12.109543423000105, 12.190198278000025, 29.665723179999986, 24.594815692999873, 14.969459281999661, 13.401074053999764, 15.48999456599995]\n"
     ]
    }
   ],
   "source": [
    "print(computation_times_tsp)"
   ]
  },
  {
   "cell_type": "code",
   "execution_count": 1,
   "metadata": {},
   "outputs": [
    {
     "ename": "NameError",
     "evalue": "name 'plot_time_complexity' is not defined",
     "output_type": "error",
     "traceback": [
      "\u001b[0;31m---------------------------------------------------------------------------\u001b[0m",
      "\u001b[0;31mNameError\u001b[0m                                 Traceback (most recent call last)",
      "Cell \u001b[0;32mIn[1], line 1\u001b[0m\n\u001b[0;32m----> 1\u001b[0m \u001b[43mplot_time_complexity\u001b[49m(x_index, computation_times_tsp, \u001b[38;5;28;01mFalse\u001b[39;00m, \u001b[38;5;124m\"\u001b[39m\u001b[38;5;124mTSP timings\u001b[39m\u001b[38;5;124m\"\u001b[39m)\n",
      "\u001b[0;31mNameError\u001b[0m: name 'plot_time_complexity' is not defined"
     ]
    }
   ],
   "source": [
    "\n",
    "plot_time_complexity(x_index, computation_times_tsp, False, \"TSP timings\")"
   ]
  },
  {
   "cell_type": "code",
   "execution_count": 22,
   "metadata": {},
   "outputs": [
    {
     "name": "stdout",
     "output_type": "stream",
     "text": [
      "Optimal sequence of moves:\n",
      "Jug 3: 0, Jug 4: 0\n",
      "Jug 3: 0, Jug 4: 4\n",
      "Jug 3: 3, Jug 4: 1\n",
      "Jug 3: 3, Jug 4: 0\n",
      "Jug 3: 0, Jug 4: 3\n",
      "Jug 3: 3, Jug 4: 3\n",
      "Jug 3: 2, Jug 4: 4\n",
      "Jug 3: 2, Jug 4: 0\n",
      "Jug 3: 0, Jug 4: 2\n"
     ]
    }
   ],
   "source": [
    "class State:\n",
    "    def __init__(self, jug_3, jug_4):\n",
    "        self.jug_3 = jug_3\n",
    "        self.jug_4 = jug_4\n",
    "\n",
    "    def __eq__(self, other):\n",
    "        return self.jug_3 == other.jug_3 and self.jug_4 == other.jug_4\n",
    "\n",
    "    def __hash__(self):\n",
    "        return hash((self.jug_3, self.jug_4))\n",
    "\n",
    "def water_jug_dfs(initial_state, target_amount):\n",
    "    stack = [([initial_state], set())]\n",
    "\n",
    "    while stack:\n",
    "        current_path, visited_states = stack.pop()\n",
    "\n",
    "        current_state = current_path[-1]\n",
    "\n",
    "        if current_state.jug_4 == target_amount:\n",
    "            return current_path\n",
    "\n",
    "        visited_states.add(current_state)\n",
    "\n",
    "        # Fill jug 3\n",
    "        fill_3 = State(3, current_state.jug_4)\n",
    "        if fill_3 not in visited_states:\n",
    "            stack.append((current_path + [fill_3], visited_states))\n",
    "\n",
    "        # Fill jug 4\n",
    "        fill_4 = State(current_state.jug_3, 4)\n",
    "        if fill_4 not in visited_states:\n",
    "            stack.append((current_path + [fill_4], visited_states))\n",
    "\n",
    "        # Empty jug 3\n",
    "        empty_3 = State(0, current_state.jug_4)\n",
    "        if empty_3 not in visited_states:\n",
    "            stack.append((current_path + [empty_3], visited_states))\n",
    "\n",
    "        # Empty jug 4\n",
    "        empty_4 = State(current_state.jug_3, 0)\n",
    "        if empty_4 not in visited_states:\n",
    "            stack.append((current_path + [empty_4], visited_states))\n",
    "\n",
    "        # Pour water from jug 3 to jug 4\n",
    "        pour_3_to_4 = State(max(0, current_state.jug_3 - (4 - current_state.jug_4)), min(4, current_state.jug_4 + current_state.jug_3))\n",
    "        if pour_3_to_4 not in visited_states:\n",
    "            stack.append((current_path + [pour_3_to_4], visited_states))\n",
    "\n",
    "        # Pour water from jug 4 to jug 3\n",
    "        pour_4_to_3 = State(min(3, current_state.jug_3 + current_state.jug_4), max(0, current_state.jug_4 - (3 - current_state.jug_3)))\n",
    "        if pour_4_to_3 not in visited_states:\n",
    "            stack.append((current_path + [pour_4_to_3], visited_states))\n",
    "\n",
    "    return None\n",
    "\n",
    "# Example usage:\n",
    "initial_state = State(0, 0)\n",
    "target_amount = 2\n",
    "\n",
    "solution_path = water_jug_dfs(initial_state, target_amount)\n",
    "\n",
    "if solution_path:\n",
    "    print(\"Optimal sequence of moves:\")\n",
    "    for state in solution_path:\n",
    "        print(f\"Jug 3: {state.jug_3}, Jug 4: {state.jug_4}\")\n",
    "else:\n",
    "    print(\"No solution found.\")\n"
   ]
  },
  {
   "cell_type": "code",
   "execution_count": 35,
   "metadata": {},
   "outputs": [
    {
     "name": "stdout",
     "output_type": "stream",
     "text": [
      "No solution found.\n"
     ]
    }
   ],
   "source": [
    "from collections import deque\n",
    "\n",
    "# Constants for player marks\n",
    "PLAYER_X = 1\n",
    "PLAYER_O = 2\n",
    "\n",
    "# Constants for board size\n",
    "BOARD_SIZE = 3\n",
    "\n",
    "# Move table with precomputed moves\n",
    "MOVE_TABLE = [\n",
    "    [0, 0, 0, 0, 1, 0, 0, 0, 0],  # Move 1\n",
    "    [0, 0, 0, 2, 0, 0, 0, 0, 0],  # Move 2\n",
    "    [0, 0, 0, 0, 0, 1, 0, 0, 0],  # Move 3\n",
    "    [0, 0, 0, 0, 0, 0, 0, 2, 0],  # Move 4\n",
    "]\n",
    "\n",
    "# Representing a Tic-Tac-Toe board\n",
    "class TicTacToeBoard:\n",
    "    def __init__(self, board=None):\n",
    "        if board is None:\n",
    "            self.board = [0] * (BOARD_SIZE ** 2)\n",
    "        else:\n",
    "            self.board = board\n",
    "\n",
    "    def __repr__(self):\n",
    "        result = \"\"\n",
    "        for i in range(BOARD_SIZE):\n",
    "            result += \" \".join(map(str, self.board[i * BOARD_SIZE:(i + 1) * BOARD_SIZE])) + \"\\n\"\n",
    "        return result\n",
    "\n",
    "    def make_move(self, move):\n",
    "        for i in range(BOARD_SIZE ** 2):\n",
    "            self.board[i] = MOVE_TABLE[move][i]\n",
    "\n",
    "    def is_winner(self, player):\n",
    "        # Check rows, columns, and diagonals\n",
    "        for i in range(BOARD_SIZE):\n",
    "            if all(self.board[i * BOARD_SIZE + j] == player for j in range(BOARD_SIZE)) or \\\n",
    "               all(self.board[j * BOARD_SIZE + i] == player for j in range(BOARD_SIZE)):\n",
    "                return True\n",
    "        if all(self.board[i * (BOARD_SIZE + 1)] == player for i in range(BOARD_SIZE)) or \\\n",
    "           all(self.board[i * (BOARD_SIZE - 1) + (BOARD_SIZE - 1)] == player for i in range(BOARD_SIZE)):\n",
    "            return True\n",
    "        return False\n",
    "\n",
    "# Breadth-First Search algorithm for Tic-Tac-Toe\n",
    "def bfs_tic_tac_toe():\n",
    "    visited_states = set()\n",
    "    initial_board = TicTacToeBoard()\n",
    "\n",
    "    queue = deque()\n",
    "    queue.append((initial_board, PLAYER_X))\n",
    "\n",
    "    while queue:\n",
    "        current_board, current_player = queue.popleft()\n",
    "\n",
    "        if tuple(current_board.board) in visited_states:\n",
    "            continue\n",
    "\n",
    "        visited_states.add(tuple(current_board.board))\n",
    "\n",
    "        if current_board.is_winner(PLAYER_X) or current_board.is_winner(PLAYER_O):\n",
    "            return current_board\n",
    "\n",
    "        if all(cell != 0 for cell in current_board.board):\n",
    "            continue\n",
    "\n",
    "        for move in range(len(MOVE_TABLE)):\n",
    "            new_board = TicTacToeBoard(current_board.board)\n",
    "            new_board.make_move(move)\n",
    "\n",
    "            next_player = PLAYER_O if current_player == PLAYER_X else PLAYER_X\n",
    "            queue.append((new_board, next_player))\n",
    "\n",
    "    return None\n",
    "\n",
    "# Example usage:\n",
    "result_board = bfs_tic_tac_toe()\n",
    "\n",
    "if result_board:\n",
    "    print(\"Optimal Tic-Tac-Toe Board:\")\n",
    "    print(result_board)\n",
    "else:\n",
    "    print(\"No solution found.\")\n"
   ]
  }
 ],
 "metadata": {
  "kernelspec": {
   "display_name": "Python 3",
   "language": "python",
   "name": "python3"
  },
  "language_info": {
   "codemirror_mode": {
    "name": "ipython",
    "version": 3
   },
   "file_extension": ".py",
   "mimetype": "text/x-python",
   "name": "python",
   "nbconvert_exporter": "python",
   "pygments_lexer": "ipython3",
   "version": "3.11.6"
  }
 },
 "nbformat": 4,
 "nbformat_minor": 2
}
